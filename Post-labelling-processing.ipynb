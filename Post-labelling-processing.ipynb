{
 "cells": [
  {
   "cell_type": "code",
   "execution_count": 11,
   "id": "e403749a",
   "metadata": {},
   "outputs": [],
   "source": [
    "import pandas as pd\n",
    "from sklearn.model_selection import train_test_split"
   ]
  },
  {
   "cell_type": "code",
   "execution_count": 12,
   "id": "8cdf0cde",
   "metadata": {
    "scrolled": true
   },
   "outputs": [],
   "source": [
    "# load data\n",
    "i_data_0 = pd.read_csv('importance_data_0.csv').dropna()\n",
    "u_data_0 = pd.read_csv('urgency_data_0.csv', names=['urgency', 'subject', 'message']).dropna()\n",
    "data_0 = pd.merge(left=i_data_0, right=u_data_0, right_on=['subject', 'message'], left_on=['subject', 'message']).dropna()\n",
    "data_1 = pd.read_csv('data_1.csv').dropna()\n",
    "data_2 = pd.read_csv('data_2.csv').dropna()\n",
    "data_3 = pd.read_csv('data_3.csv').dropna()\n",
    "\n",
    "# concatenate data\n",
    "data = pd.concat([data_0, data_1, data_2, data_3])"
   ]
  },
  {
   "cell_type": "code",
   "execution_count": 13,
   "id": "2d2cef1f",
   "metadata": {},
   "outputs": [],
   "source": [
    "# transform the data\n",
    "data['importance'] = data['importance'].apply(lambda x: int(x))\n",
    "data['urgency'] = data['urgency'].apply(lambda x: int(x))"
   ]
  },
  {
   "cell_type": "code",
   "execution_count": 14,
   "id": "4079ccc2",
   "metadata": {},
   "outputs": [],
   "source": [
    "# split data\n",
    "important_data = data[['importance', 'subject']].copy()\n",
    "urgent_data = data[['urgency', 'subject']].copy()"
   ]
  },
  {
   "cell_type": "code",
   "execution_count": 15,
   "id": "04f05113",
   "metadata": {},
   "outputs": [],
   "source": [
    "# save to disk\n",
    "important_data.to_csv('important_data.csv', index=False, header=True, sep=',')\n",
    "urgent_data.to_csv('urgent_data.csv', index=False, header=True, sep=',')"
   ]
  },
  {
   "cell_type": "code",
   "execution_count": null,
   "id": "c1e63ad2",
   "metadata": {},
   "outputs": [],
   "source": []
  }
 ],
 "metadata": {
  "kernelspec": {
   "display_name": "conda_python3",
   "language": "python",
   "name": "conda_python3"
  },
  "language_info": {
   "codemirror_mode": {
    "name": "ipython",
    "version": 3
   },
   "file_extension": ".py",
   "mimetype": "text/x-python",
   "name": "python",
   "nbconvert_exporter": "python",
   "pygments_lexer": "ipython3",
   "version": "3.10.8"
  }
 },
 "nbformat": 4,
 "nbformat_minor": 5
}
