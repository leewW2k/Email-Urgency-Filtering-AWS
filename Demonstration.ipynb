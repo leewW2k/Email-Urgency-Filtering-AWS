{
 "cells": [
  {
   "cell_type": "code",
   "execution_count": 5,
   "id": "a88fa926",
   "metadata": {},
   "outputs": [],
   "source": [
    "import pandas as pd\n",
    "import boto3"
   ]
  },
  {
   "cell_type": "code",
   "execution_count": 8,
   "id": "f291190a",
   "metadata": {},
   "outputs": [
    {
     "name": "stdout",
     "output_type": "stream",
     "text": [
      "Enter the email header: Re: Data file import - numbers and letters in matrix\n",
      "The email is important but not urgent\n"
     ]
    }
   ],
   "source": [
    "runtime = boto3.Session().client(\"sagemaker-runtime\")\n",
    "\n",
    "def is_important(subject):\n",
    "    endpoint = 'endpoint-V2'\n",
    "    payload = subject.encode('ascii') \n",
    "    response = runtime.invoke_endpoint(EndpointName=endpoint, ContentType='text/csv', Body=payload)\n",
    "    x = response['Body'].read().decode().split(',')\n",
    "    return int(x[0])\n",
    "\n",
    "def is_urgent(subject):\n",
    "    endpoint = 'endpoint-V1'\n",
    "    payload = subject.encode('ascii')\n",
    "    response = runtime.invoke_endpoint(EndpointName=endpoint, ContentType='text/csv', Body=payload)\n",
    "    x = response['Body'].read().decode().split(',')\n",
    "    return int(x[0])\n",
    "\n",
    "def demonstration():\n",
    "    email_subject = input(\"Enter the email header: \")\n",
    "    important = is_important(email_subject)\n",
    "    urgent = is_urgent(email_subject)\n",
    "    if important and urgent:\n",
    "        print(\"The email is important and urgent\")\n",
    "    elif important:\n",
    "        print(\"The email is important but not urgent\")\n",
    "    elif urgent:\n",
    "        print(\"The email is urgent but not important\")\n",
    "    else:\n",
    "        print(\"The email is not important and not urgent\")\n",
    "\n",
    "demonstration()"
   ]
  },
  {
   "cell_type": "code",
   "execution_count": null,
   "id": "eb09ffc2",
   "metadata": {},
   "outputs": [],
   "source": []
  },
  {
   "cell_type": "code",
   "execution_count": null,
   "id": "0685f950",
   "metadata": {},
   "outputs": [],
   "source": []
  }
 ],
 "metadata": {
  "kernelspec": {
   "display_name": "conda_python3",
   "language": "python",
   "name": "conda_python3"
  },
  "language_info": {
   "codemirror_mode": {
    "name": "ipython",
    "version": 3
   },
   "file_extension": ".py",
   "mimetype": "text/x-python",
   "name": "python",
   "nbconvert_exporter": "python",
   "pygments_lexer": "ipython3",
   "version": "3.10.8"
  }
 },
 "nbformat": 4,
 "nbformat_minor": 5
}
